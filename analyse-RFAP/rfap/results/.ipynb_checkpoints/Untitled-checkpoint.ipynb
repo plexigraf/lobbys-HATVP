{
 "cells": [
  {
   "cell_type": "code",
   "execution_count": 6,
   "id": "05ce1304-e3de-4f86-b218-6b3f0b78b900",
   "metadata": {},
   "outputs": [],
   "source": [
    "import os\n",
    "import json\n",
    "import pandas as pd\n",
    "# Récupérer le répertoire courant\n",
    "repertoire_courant = os.getcwd()\n",
    "\n",
    "# Initialiser un dictionnaire pour stocker les fichiers JSON\n",
    "fichiers_json = {}\n",
    "\n",
    "# Parcourir les fichiers du répertoire courant\n",
    "for fichier in os.listdir(repertoire_courant):\n",
    "    # Vérifier si le fichier est un fichier JSON\n",
    "    if fichier.endswith('.json'):\n",
    "        # Ouvrir le fichier JSON et le lire\n",
    "        with open(fichier, 'r') as f:\n",
    "            contenu = json.load(f)\n",
    "            # Stocker le contenu dans le dictionnaire avec le nom du fichier comme clé\n",
    "            fichiers_json[fichier] = contenu\n",
    "\n"
   ]
  },
  {
   "cell_type": "code",
   "execution_count": 8,
   "id": "39ff4883-adde-4de0-aa48-5624fcee07f7",
   "metadata": {},
   "outputs": [
    {
     "name": "stdout",
     "output_type": "stream",
     "text": [
      "Matrice de corrélation entre les fichiers:\n",
      "                                                    secteurs-data--outliers=false-uniformActions=False-ressources-True-costLobbyist=30000--sampleall.json  \\\n",
      "secteurs-data--outliers=false-uniformActions=Fa...                                           1.000000                                                       \n",
      "secteurs-data--outliers=idagressive-uniformActi...                                           0.776733                                                       \n",
      "secteurs-data--outliers=false-uniformActions=Fa...                                           0.998238                                                       \n",
      "secteurs-data--outliers=ln-uniformActions=False...                                           0.741245                                                       \n",
      "secteurs-data--outliers=id-uniformActions=False...                                           0.773662                                                       \n",
      "\n",
      "                                                    secteurs-data--outliers=idagressive-uniformActions=False-ressources-True-costLobbyist=30000--sampleall.json  \\\n",
      "secteurs-data--outliers=false-uniformActions=Fa...                                           0.776733                                                             \n",
      "secteurs-data--outliers=idagressive-uniformActi...                                           1.000000                                                             \n",
      "secteurs-data--outliers=false-uniformActions=Fa...                                           0.786341                                                             \n",
      "secteurs-data--outliers=ln-uniformActions=False...                                           0.998283                                                             \n",
      "secteurs-data--outliers=id-uniformActions=False...                                           0.999953                                                             \n",
      "\n",
      "                                                    secteurs-data--outliers=false-uniformActions=False-ressources-True-costLobbyist=1--sampleall.json  \\\n",
      "secteurs-data--outliers=false-uniformActions=Fa...                                           0.998238                                                   \n",
      "secteurs-data--outliers=idagressive-uniformActi...                                           0.786341                                                   \n",
      "secteurs-data--outliers=false-uniformActions=Fa...                                           1.000000                                                   \n",
      "secteurs-data--outliers=ln-uniformActions=False...                                           0.751686                                                   \n",
      "secteurs-data--outliers=id-uniformActions=False...                                           0.783250                                                   \n",
      "\n",
      "                                                    secteurs-data--outliers=ln-uniformActions=False-ressources-True-costLobbyist=30000--sampleall.json  \\\n",
      "secteurs-data--outliers=false-uniformActions=Fa...                                           0.741245                                                    \n",
      "secteurs-data--outliers=idagressive-uniformActi...                                           0.998283                                                    \n",
      "secteurs-data--outliers=false-uniformActions=Fa...                                           0.751686                                                    \n",
      "secteurs-data--outliers=ln-uniformActions=False...                                           1.000000                                                    \n",
      "secteurs-data--outliers=id-uniformActions=False...                                           0.998537                                                    \n",
      "\n",
      "                                                    secteurs-data--outliers=id-uniformActions=False-ressources-True-costLobbyist=30000--sampleall.json  \n",
      "secteurs-data--outliers=false-uniformActions=Fa...                                           0.773662                                                   \n",
      "secteurs-data--outliers=idagressive-uniformActi...                                           0.999953                                                   \n",
      "secteurs-data--outliers=false-uniformActions=Fa...                                           0.783250                                                   \n",
      "secteurs-data--outliers=ln-uniformActions=False...                                           0.998537                                                   \n",
      "secteurs-data--outliers=id-uniformActions=False...                                           1.000000                                                   \n"
     ]
    }
   ],
   "source": [
    "df = pd.DataFrame(fichiers_json)\n",
    "\n",
    "# Calculer les corrélations\n",
    "corr_matrix = df.corr()\n",
    "\n",
    "# Afficher la matrice de corrélation\n",
    "print(\"Matrice de corrélation entre les fichiers:\")\n",
    "print(corr_matrix)"
   ]
  },
  {
   "cell_type": "code",
   "execution_count": null,
   "id": "579bb092-cf72-4b64-9e36-81bb53232463",
   "metadata": {},
   "outputs": [],
   "source": [
    "#on recommence sans l'agriculture\n",
    "\n",
    "# Initialiser un dictionnaire pour stocker les fichiers JSON\n",
    "fichiers_json = {}\n",
    "\n",
    "# Parcourir les fichiers du répertoire courant\n",
    "for fichier in os.listdir(repertoire_courant):\n",
    "    # Vérifier si le fichier est un fichier JSON\n",
    "    if fichier.endswith('.json'):\n",
    "        # Ouvrir le fichier JSON et le lire\n",
    "        with open(fichier, 'r') as f:\n",
    "            contenu = json.load(f)\n",
    "            del contenu[\"Agriculture, agroalimentaire\"]\n",
    "            # Stocker le contenu dans le dictionnaire avec le nom du fichier comme clé\n",
    "            fichiers_json[fichier] = contenu"
   ]
  }
 ],
 "metadata": {
  "kernelspec": {
   "display_name": "Python 3 (ipykernel)",
   "language": "python",
   "name": "python3"
  },
  "language_info": {
   "codemirror_mode": {
    "name": "ipython",
    "version": 3
   },
   "file_extension": ".py",
   "mimetype": "text/x-python",
   "name": "python",
   "nbconvert_exporter": "python",
   "pygments_lexer": "ipython3",
   "version": "3.9.7"
  }
 },
 "nbformat": 4,
 "nbformat_minor": 5
}
